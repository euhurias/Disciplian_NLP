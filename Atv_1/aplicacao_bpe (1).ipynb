version https://git-lfs.github.com/spec/v1
oid sha256:6ae8c4d03dd1b6def907b05e898862d028da5a22f50048f2e51d944dcd94d1d3
size 486709729
